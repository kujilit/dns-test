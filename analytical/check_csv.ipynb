{
 "cells": [
  {
   "cell_type": "code",
   "execution_count": null,
   "metadata": {},
   "outputs": [],
   "source": [
    "import pandas as pd\n",
    "\n",
    "df_branches = pd.read_csv('../test_data/t_branches.csv')\n",
    "df_cities = pd.read_csv('../test_data/t_cities.csv')\n",
    "df_products = pd.read_csv('../test_data/t_products.csv')\n",
    "df_sales = pd.read_csv('../test_data/t_sales.csv')"
   ]
  },
  {
   "cell_type": "code",
   "execution_count": 8,
   "metadata": {},
   "outputs": [],
   "source": [
    "df_cities = df_cities.rename(columns={'Unnamed: 0' : 'city_id',\n",
    "                                      'Ссылка' : 'city_key',\n",
    "                                      'Наименование' : 'city_name'})\n",
    "\n",
    "df_sales = df_sales.rename(columns={'Unnamed: 0' : 'sale_id',\n",
    "                                      'Период' : 'sale_period',\n",
    "                                      'Филиал' : 'branch_key',\n",
    "                                      'Номенклатура' : 'product_key',\n",
    "                                      'Количество' : 'sale_quantity',\n",
    "                                      'Продажа' : 'sale_price'})\n",
    "\n",
    "df_branches = df_branches.rename(columns={'Unnamed: 0' : 'branch_id',\n",
    "                                      'Ссылка' : 'branch_key',\n",
    "                                      'Наименование': 'branch_name',\n",
    "                                      'Город' : 'city_key',\n",
    "                                      'КраткоеНаименование' : 'branch_short_name',\n",
    "                                      'Регион' : 'branch_region'})\n",
    "\n",
    "df_products = df_products.rename(columns={'Unnamed: 0' : 'product_id',\n",
    "                                      'Ссылка' : 'product_key',\n",
    "                                      'Наименование' : 'product_name'})"
   ]
  },
  {
   "cell_type": "code",
   "execution_count": 9,
   "metadata": {},
   "outputs": [
    {
     "data": {
      "text/html": [
       "<div>\n",
       "<style scoped>\n",
       "    .dataframe tbody tr th:only-of-type {\n",
       "        vertical-align: middle;\n",
       "    }\n",
       "\n",
       "    .dataframe tbody tr th {\n",
       "        vertical-align: top;\n",
       "    }\n",
       "\n",
       "    .dataframe thead th {\n",
       "        text-align: right;\n",
       "    }\n",
       "</style>\n",
       "<table border=\"1\" class=\"dataframe\">\n",
       "  <thead>\n",
       "    <tr style=\"text-align: right;\">\n",
       "      <th></th>\n",
       "      <th>city_id</th>\n",
       "      <th>city_key</th>\n",
       "      <th>city_name</th>\n",
       "    </tr>\n",
       "  </thead>\n",
       "  <tbody>\n",
       "    <tr>\n",
       "      <th>0</th>\n",
       "      <td>0</td>\n",
       "      <td>46fd802b-8b1a-11e0-a305-00155d030b07</td>\n",
       "      <td>Новочебоксарск</td>\n",
       "    </tr>\n",
       "    <tr>\n",
       "      <th>1</th>\n",
       "      <td>1</td>\n",
       "      <td>c5073534-0f65-11e0-ae93-001517c526f0</td>\n",
       "      <td>Чебоксары</td>\n",
       "    </tr>\n",
       "    <tr>\n",
       "      <th>2</th>\n",
       "      <td>2</td>\n",
       "      <td>ec0027e0-14ab-11e0-9048-001517c526f0</td>\n",
       "      <td>Магнитогорск</td>\n",
       "    </tr>\n",
       "    <tr>\n",
       "      <th>3</th>\n",
       "      <td>3</td>\n",
       "      <td>30b7c1ea-03fb-11dc-95ee-00151716f9f5</td>\n",
       "      <td>Владивосток</td>\n",
       "    </tr>\n",
       "    <tr>\n",
       "      <th>4</th>\n",
       "      <td>4</td>\n",
       "      <td>30b7c1eb-03fb-11dc-95ee-00151716f9f5</td>\n",
       "      <td>Уссурийск</td>\n",
       "    </tr>\n",
       "  </tbody>\n",
       "</table>\n",
       "</div>"
      ],
      "text/plain": [
       "   city_id                              city_key       city_name\n",
       "0        0  46fd802b-8b1a-11e0-a305-00155d030b07  Новочебоксарск\n",
       "1        1  c5073534-0f65-11e0-ae93-001517c526f0       Чебоксары\n",
       "2        2  ec0027e0-14ab-11e0-9048-001517c526f0    Магнитогорск\n",
       "3        3  30b7c1ea-03fb-11dc-95ee-00151716f9f5     Владивосток\n",
       "4        4  30b7c1eb-03fb-11dc-95ee-00151716f9f5       Уссурийск"
      ]
     },
     "execution_count": 9,
     "metadata": {},
     "output_type": "execute_result"
    }
   ],
   "source": [
    "df_cities.head()"
   ]
  },
  {
   "cell_type": "code",
   "execution_count": 10,
   "metadata": {},
   "outputs": [
    {
     "data": {
      "text/html": [
       "<div>\n",
       "<style scoped>\n",
       "    .dataframe tbody tr th:only-of-type {\n",
       "        vertical-align: middle;\n",
       "    }\n",
       "\n",
       "    .dataframe tbody tr th {\n",
       "        vertical-align: top;\n",
       "    }\n",
       "\n",
       "    .dataframe thead th {\n",
       "        text-align: right;\n",
       "    }\n",
       "</style>\n",
       "<table border=\"1\" class=\"dataframe\">\n",
       "  <thead>\n",
       "    <tr style=\"text-align: right;\">\n",
       "      <th></th>\n",
       "      <th>branch_id</th>\n",
       "      <th>branch_key</th>\n",
       "      <th>branch_name</th>\n",
       "      <th>city_key</th>\n",
       "      <th>branch_short_name</th>\n",
       "      <th>branch_region</th>\n",
       "    </tr>\n",
       "  </thead>\n",
       "  <tbody>\n",
       "    <tr>\n",
       "      <th>0</th>\n",
       "      <td>0</td>\n",
       "      <td>3841b923-ef12-11dc-bced-00151716f9f5</td>\n",
       "      <td>Кра Склад</td>\n",
       "      <td>2b042b0d-c493-11dc-bf69-00151716f9f5</td>\n",
       "      <td>Кра Склад</td>\n",
       "      <td>ДальнийВостокИВосточнаяСибирь</td>\n",
       "    </tr>\n",
       "    <tr>\n",
       "      <th>1</th>\n",
       "      <td>1</td>\n",
       "      <td>96fc76b4-7955-49ca-8d34-5b173b6f4b01</td>\n",
       "      <td>Улан-Удэ Корпоратив</td>\n",
       "      <td>4f7a40b0-6b0f-11dc-a590-00151716f9f5</td>\n",
       "      <td>Улан-Удэ Корпоратив</td>\n",
       "      <td>ДальнийВостокИВосточнаяСибирь</td>\n",
       "    </tr>\n",
       "    <tr>\n",
       "      <th>2</th>\n",
       "      <td>2</td>\n",
       "      <td>039ae664-7928-4ae4-abd0-935d24d1f642</td>\n",
       "      <td>яКиров Свободы</td>\n",
       "      <td>4186730a-779c-11e0-80d3-001517c526f0</td>\n",
       "      <td>свободы</td>\n",
       "      <td>ВерхнеВолжский</td>\n",
       "    </tr>\n",
       "    <tr>\n",
       "      <th>3</th>\n",
       "      <td>3</td>\n",
       "      <td>f60f5d7b-6ed8-431c-a020-ac50d6d8cd7e</td>\n",
       "      <td>яКазань Московский</td>\n",
       "      <td>55506b55-0565-11df-9cf0-00151716f9f5</td>\n",
       "      <td>ДНС Бытовой на Московском</td>\n",
       "      <td>ВерхнеВолжский</td>\n",
       "    </tr>\n",
       "    <tr>\n",
       "      <th>4</th>\n",
       "      <td>4</td>\n",
       "      <td>3dff0b25-9a0a-401e-9d05-0334cb21fe42</td>\n",
       "      <td>Белгород ТЦ Пассаж</td>\n",
       "      <td>ec54f012-3053-11e1-ae41-001517c526f0</td>\n",
       "      <td>ТЦ \"Пассаж\"</td>\n",
       "      <td>Черноземье</td>\n",
       "    </tr>\n",
       "  </tbody>\n",
       "</table>\n",
       "</div>"
      ],
      "text/plain": [
       "   branch_id                            branch_key           branch_name  \\\n",
       "0          0  3841b923-ef12-11dc-bced-00151716f9f5            Кра Склад    \n",
       "1          1  96fc76b4-7955-49ca-8d34-5b173b6f4b01  Улан-Удэ Корпоратив    \n",
       "2          2  039ae664-7928-4ae4-abd0-935d24d1f642       яКиров Свободы    \n",
       "3          3  f60f5d7b-6ed8-431c-a020-ac50d6d8cd7e   яКазань Московский    \n",
       "4          4  3dff0b25-9a0a-401e-9d05-0334cb21fe42   Белгород ТЦ Пассаж    \n",
       "\n",
       "                               city_key          branch_short_name  \\\n",
       "0  2b042b0d-c493-11dc-bf69-00151716f9f5                  Кра Склад   \n",
       "1  4f7a40b0-6b0f-11dc-a590-00151716f9f5        Улан-Удэ Корпоратив   \n",
       "2  4186730a-779c-11e0-80d3-001517c526f0                    свободы   \n",
       "3  55506b55-0565-11df-9cf0-00151716f9f5  ДНС Бытовой на Московском   \n",
       "4  ec54f012-3053-11e1-ae41-001517c526f0                ТЦ \"Пассаж\"   \n",
       "\n",
       "                   branch_region  \n",
       "0  ДальнийВостокИВосточнаяСибирь  \n",
       "1  ДальнийВостокИВосточнаяСибирь  \n",
       "2                 ВерхнеВолжский  \n",
       "3                 ВерхнеВолжский  \n",
       "4                     Черноземье  "
      ]
     },
     "execution_count": 10,
     "metadata": {},
     "output_type": "execute_result"
    }
   ],
   "source": [
    "df_branches.head()"
   ]
  },
  {
   "cell_type": "code",
   "execution_count": 26,
   "metadata": {},
   "outputs": [
    {
     "data": {
      "text/plain": [
       "product_id                                                      7\n",
       "product_key                  c5eaf074-a388-11e0-8987-00155d030b07\n",
       "product_name    Сумка AirTone AT-W011 Brown, хлопок, коричневы...\n",
       "Name: 7, dtype: object"
      ]
     },
     "metadata": {},
     "output_type": "display_data"
    }
   ],
   "source": [
    "display(df_products.loc[7, :])"
   ]
  },
  {
   "cell_type": "code",
   "execution_count": 12,
   "metadata": {},
   "outputs": [
    {
     "data": {
      "text/html": [
       "<div>\n",
       "<style scoped>\n",
       "    .dataframe tbody tr th:only-of-type {\n",
       "        vertical-align: middle;\n",
       "    }\n",
       "\n",
       "    .dataframe tbody tr th {\n",
       "        vertical-align: top;\n",
       "    }\n",
       "\n",
       "    .dataframe thead th {\n",
       "        text-align: right;\n",
       "    }\n",
       "</style>\n",
       "<table border=\"1\" class=\"dataframe\">\n",
       "  <thead>\n",
       "    <tr style=\"text-align: right;\">\n",
       "      <th></th>\n",
       "      <th>sale_id</th>\n",
       "      <th>sale_period</th>\n",
       "      <th>branch_key</th>\n",
       "      <th>product_key</th>\n",
       "      <th>sale_quantity</th>\n",
       "      <th>sale_price</th>\n",
       "    </tr>\n",
       "  </thead>\n",
       "  <tbody>\n",
       "    <tr>\n",
       "      <th>0</th>\n",
       "      <td>0</td>\n",
       "      <td>2012-01-04 18:08:19</td>\n",
       "      <td>7080ffe3-e48e-46ab-882b-47d4d2146737</td>\n",
       "      <td>b90d9481-8766-11e0-bdeb-00155d030b07</td>\n",
       "      <td>1.0</td>\n",
       "      <td>485.0</td>\n",
       "    </tr>\n",
       "    <tr>\n",
       "      <th>1</th>\n",
       "      <td>1</td>\n",
       "      <td>2012-01-11 17:17:08</td>\n",
       "      <td>995135eb-2c57-11dd-900f-00151716f9f5</td>\n",
       "      <td>ce106c89-fe54-11de-b2fc-00151716f9f5</td>\n",
       "      <td>1.0</td>\n",
       "      <td>590.0</td>\n",
       "    </tr>\n",
       "    <tr>\n",
       "      <th>2</th>\n",
       "      <td>2</td>\n",
       "      <td>2012-01-03 14:07:10</td>\n",
       "      <td>8822e357-e9be-4789-8f69-092344105a6b</td>\n",
       "      <td>eac2aa80-272b-11df-b750-001517c526f1</td>\n",
       "      <td>1.0</td>\n",
       "      <td>95.0</td>\n",
       "    </tr>\n",
       "    <tr>\n",
       "      <th>3</th>\n",
       "      <td>3</td>\n",
       "      <td>2012-01-03 14:07:10</td>\n",
       "      <td>8822e357-e9be-4789-8f69-092344105a6b</td>\n",
       "      <td>eac2aa7f-272b-11df-b750-001517c526f1</td>\n",
       "      <td>1.0</td>\n",
       "      <td>95.0</td>\n",
       "    </tr>\n",
       "    <tr>\n",
       "      <th>4</th>\n",
       "      <td>4</td>\n",
       "      <td>2012-01-03 14:07:10</td>\n",
       "      <td>8822e357-e9be-4789-8f69-092344105a6b</td>\n",
       "      <td>eac2aa7d-272b-11df-b750-001517c526f1</td>\n",
       "      <td>1.0</td>\n",
       "      <td>95.0</td>\n",
       "    </tr>\n",
       "  </tbody>\n",
       "</table>\n",
       "</div>"
      ],
      "text/plain": [
       "   sale_id          sale_period                            branch_key  \\\n",
       "0        0  2012-01-04 18:08:19  7080ffe3-e48e-46ab-882b-47d4d2146737   \n",
       "1        1  2012-01-11 17:17:08  995135eb-2c57-11dd-900f-00151716f9f5   \n",
       "2        2  2012-01-03 14:07:10  8822e357-e9be-4789-8f69-092344105a6b   \n",
       "3        3  2012-01-03 14:07:10  8822e357-e9be-4789-8f69-092344105a6b   \n",
       "4        4  2012-01-03 14:07:10  8822e357-e9be-4789-8f69-092344105a6b   \n",
       "\n",
       "                            product_key  sale_quantity  sale_price  \n",
       "0  b90d9481-8766-11e0-bdeb-00155d030b07            1.0       485.0  \n",
       "1  ce106c89-fe54-11de-b2fc-00151716f9f5            1.0       590.0  \n",
       "2  eac2aa80-272b-11df-b750-001517c526f1            1.0        95.0  \n",
       "3  eac2aa7f-272b-11df-b750-001517c526f1            1.0        95.0  \n",
       "4  eac2aa7d-272b-11df-b750-001517c526f1            1.0        95.0  "
      ]
     },
     "execution_count": 12,
     "metadata": {},
     "output_type": "execute_result"
    }
   ],
   "source": [
    "df_sales.head()"
   ]
  },
  {
   "cell_type": "code",
   "execution_count": 18,
   "metadata": {},
   "outputs": [
    {
     "data": {
      "text/plain": [
       "True"
      ]
     },
     "metadata": {},
     "output_type": "display_data"
    },
    {
     "data": {
      "text/plain": [
       "True"
      ]
     },
     "metadata": {},
     "output_type": "display_data"
    },
    {
     "data": {
      "text/plain": [
       "True"
      ]
     },
     "metadata": {},
     "output_type": "display_data"
    }
   ],
   "source": [
    "display(len(df_branches.branch_key.value_counts()) == len(df_branches.branch_id.value_counts()))\n",
    "display(len(df_cities.city_key.value_counts()) == len(df_cities.city_id.value_counts()))\n",
    "display(len(df_products.product_key.value_counts()) == len(df_products.product_id.value_counts()))"
   ]
  },
  {
   "cell_type": "code",
   "execution_count": null,
   "metadata": {},
   "outputs": [],
   "source": []
  }
 ],
 "metadata": {
  "kernelspec": {
   "display_name": "venv",
   "language": "python",
   "name": "python3"
  },
  "language_info": {
   "codemirror_mode": {
    "name": "ipython",
    "version": 3
   },
   "file_extension": ".py",
   "mimetype": "text/x-python",
   "name": "python",
   "nbconvert_exporter": "python",
   "pygments_lexer": "ipython3",
   "version": "3.8.5"
  }
 },
 "nbformat": 4,
 "nbformat_minor": 2
}
