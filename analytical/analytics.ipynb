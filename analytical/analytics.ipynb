{
 "cells": [
  {
   "cell_type": "code",
   "execution_count": 50,
   "metadata": {},
   "outputs": [],
   "source": [
    "import psycopg2\n",
    "import pandas as pd\n",
    "\n",
    "db_params = {'database' : 'postgres',\n",
    "             'user' : 'postgres',\n",
    "             'password' : 'admin',\n",
    "             'host' : '127.0.0.1',\n",
    "             'port' : '5432'}\n",
    "\n",
    "conn = psycopg2.connect(database=db_params['database'], \n",
    "\t\t\t\t\t\tuser=db_params['user'],\n",
    "                        password=db_params['password'], \n",
    "\t\t\t\t\t\thost=db_params['host'],\n",
    "                        port=db_params['port']\n",
    ") \n",
    "\n",
    "cur = conn.cursor()"
   ]
  },
  {
   "cell_type": "code",
   "execution_count": null,
   "metadata": {},
   "outputs": [],
   "source": [
    "cur.execute(\"ALTER TABLE branches ADD is_storage BOOLEAN DEFAULT FALSE;\")\n",
    "cur.execute(\"UPDATE branches SET is_storage=TRUE WHERE branch_name LIKE '%склад%' OR branch_name LIKE '%Склад%';\")\n",
    "\n",
    "conn.commit() "
   ]
  },
  {
   "cell_type": "code",
   "execution_count": 51,
   "metadata": {},
   "outputs": [],
   "source": [
    "cur.execute(\"ALTER TABLE branches ADD top_products VARCHAR[];\")\n",
    "conn.commit() "
   ]
  },
  {
   "cell_type": "code",
   "execution_count": 53,
   "metadata": {},
   "outputs": [],
   "source": [
    "cur.execute('''WITH RankedProducts AS (\n",
    "  SELECT\n",
    "    products.product_name,\n",
    "    sales.sale_quantity,\n",
    "    branches.branch_name,\n",
    "    ROW_NUMBER() OVER (PARTITION BY branches.branch_key ORDER BY sales.sale_quantity DESC) AS ranking\n",
    "  FROM\n",
    "    sales\n",
    "    JOIN products ON sales.product_key = products.product_key\n",
    "    JOIN branches ON sales.branch_key = branches.branch_key\n",
    "  WHERE \n",
    "      (products.product_name NOT LIKE '%Доставка%' AND products.product_name NOT LIKE '%доставка%' AND products.product_name NOT LIKE '%Обработка%')\n",
    ")\n",
    "UPDATE branches\n",
    "SET top_products = (\n",
    "  SELECT ARRAY_AGG(RankedProducts.product_name) AS top_products\n",
    "  FROM RankedProducts\n",
    "  WHERE RankedProducts.branch_name = branches.branch_name AND ranking BETWEEN 1 AND 10\n",
    ")\n",
    "WHERE EXISTS (\n",
    "  SELECT 1 \n",
    "  FROM RankedProducts\n",
    "  WHERE RankedProducts.branch_name = branches.branch_name AND ranking BETWEEN 1 AND 10\n",
    ");''')    \n",
    "\n",
    "conn.commit() "
   ]
  },
  {
   "cell_type": "code",
   "execution_count": null,
   "metadata": {},
   "outputs": [],
   "source": []
  },
  {
   "cell_type": "code",
   "execution_count": null,
   "metadata": {},
   "outputs": [],
   "source": [
    "cur.close()\n",
    "conn.close()"
   ]
  }
 ],
 "metadata": {
  "kernelspec": {
   "display_name": "venv",
   "language": "python",
   "name": "python3"
  },
  "language_info": {
   "codemirror_mode": {
    "name": "ipython",
    "version": 3
   },
   "file_extension": ".py",
   "mimetype": "text/x-python",
   "name": "python",
   "nbconvert_exporter": "python",
   "pygments_lexer": "ipython3",
   "version": "3.8.5"
  }
 },
 "nbformat": 4,
 "nbformat_minor": 2
}
